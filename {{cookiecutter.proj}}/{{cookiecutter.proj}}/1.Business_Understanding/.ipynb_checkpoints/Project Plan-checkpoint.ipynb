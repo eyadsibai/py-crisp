{
 "cells": [
  {
   "cell_type": "markdown",
   "metadata": {},
   "source": [
    "# Project Plan\n",
    "Describe the intended plan for achieving the data mining goals and thereby achieving the business goals. The plan should specify the steps to be performed during the rest of the project, including the initial selection of tools and techniques.\n",
    "\n",
    "- List the stages to be executed in the project, together with their duration, resources required, inputs, outputs, and dependencies. Where possible, make explicit the large-scale iterations in the data mining process—for example, repetitions of the modeling and evaluation phases.\n",
    "- As part of the project plan, it is also important to analyze dependencies between time schedule and risks. Mark results of these analyses explicitly in the project plan, ideally with actions and recommendations if the risks are manifested.\n",
    "- Note: the project plan contains detailed plans for each phase. Decide at this point which evaluation strategy will be used in the evaluation phase.\n",
    "- The project plan is a dynamic document in the sense that at the end of each phase, a review of progress and achievements is necessary and a corresponding update of the project plan is recommended. Specific review points for these updates are part of the project plan.\n",
    "\n",
    "## Initial assessment of tools and techniques\n",
    "At the end of the first phase, an initial assessment of tools and techniques should be performed. Here, for example, you select a data mining tool that supports various methods for different stages of the process.\n",
    "It is important to assess tools and techniques early in the process since the selection of tools and techniques may influence the entire project."
   ]
  },
  {
   "cell_type": "code",
   "execution_count": null,
   "metadata": {
    "collapsed": true
   },
   "outputs": [],
   "source": []
  },
  {
   "cell_type": "markdown",
   "metadata": {},
   "source": [
    "# Stakeholders\n",
    "Identifying ALL stakeholders and their involvement in the project no matter how small is a crucial step."
   ]
  },
  {
   "cell_type": "code",
   "execution_count": null,
   "metadata": {
    "collapsed": true
   },
   "outputs": [],
   "source": []
  },
  {
   "cell_type": "markdown",
   "metadata": {},
   "source": [
    "# Phases\n",
    "\n",
    "## Data Understanding\n",
    "\n",
    "## Initial Modeling\n",
    "\n",
    "## Data Preparation\n",
    "\n",
    "## Modeling\n",
    "\n",
    "## Evaluation\n",
    "\n",
    "## Deployment\n"
   ]
  },
  {
   "cell_type": "code",
   "execution_count": null,
   "metadata": {
    "collapsed": true
   },
   "outputs": [],
   "source": []
  }
 ],
 "metadata": {
  "kernelspec": {
   "display_name": "Python 2",
   "language": "python",
   "name": "python2"
  },
  "language_info": {
   "codemirror_mode": {
    "name": "ipython",
    "version": 2
   },
   "file_extension": ".py",
   "mimetype": "text/x-python",
   "name": "python",
   "nbconvert_exporter": "python",
   "pygments_lexer": "ipython2",
   "version": "2.7.10"
  }
 },
 "nbformat": 4,
 "nbformat_minor": 0
}
