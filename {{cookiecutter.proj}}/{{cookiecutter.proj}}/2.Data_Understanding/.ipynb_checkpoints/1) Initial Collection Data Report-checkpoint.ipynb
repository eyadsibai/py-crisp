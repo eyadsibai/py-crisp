{
 "cells": [
  {
   "cell_type": "markdown",
   "metadata": {},
   "source": [
    "# Collect Initial Data\n",
    "Acquire the data (or access to the data) listed in the project resources. This initial collection includes data loading, if necessary for data understanding. For example, if you use a specific tool for data understanding, it makes perfect sense to load your data into this tool. This effort possibly leads to initial data preparation steps.\n",
    "Note: if you acquire multiple data sources, integration is an additional issue, either here or in the later data preparation phase.\n",
    "\n",
    "- List the dataset(s) acquired, \n",
    "- together with their locations, \n",
    "- the methods used to acquire them, \n",
    "- and any problems encountered. \n",
    "\n",
    "Record problems encountered and any resolutions achieved. This will aid with future replication of this project or with the execution of similar future projects.\n"
   ]
  },
  {
   "cell_type": "code",
   "execution_count": null,
   "metadata": {
    "collapsed": true
   },
   "outputs": [],
   "source": []
  }
 ],
 "metadata": {
  "kernelspec": {
   "display_name": "Python 2",
   "language": "python",
   "name": "python2"
  },
  "language_info": {
   "codemirror_mode": {
    "name": "ipython",
    "version": 2
   },
   "file_extension": ".py",
   "mimetype": "text/x-python",
   "name": "python",
   "nbconvert_exporter": "python",
   "pygments_lexer": "ipython2",
   "version": "2.7.10"
  }
 },
 "nbformat": 4,
 "nbformat_minor": 0
}
