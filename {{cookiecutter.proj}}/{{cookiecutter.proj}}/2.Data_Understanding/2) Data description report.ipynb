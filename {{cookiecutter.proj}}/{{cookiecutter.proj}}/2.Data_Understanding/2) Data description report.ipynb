{
 "cells": [
  {
   "cell_type": "markdown",
   "metadata": {},
   "source": [
    "# Describe Data\n",
    "Examine the “gross” or “surface” properties of the acquired data and report on the results.\n",
    "\n",
    "- Describe the data that has been acquired, \n",
    "- including the format of the data, \n",
    "- the quantity of data (for example, the number of records and fields in each table), \n",
    "- the identities of the fields, \n",
    "- and any other surface features which have been discovered. \n",
    "- Evaluate whether the data acquired satisfies the relevant requirements."
   ]
  },
  {
   "cell_type": "code",
   "execution_count": null,
   "metadata": {
    "collapsed": true
   },
   "outputs": [],
   "source": []
  }
 ],
 "metadata": {
  "kernelspec": {
   "display_name": "Python 2",
   "language": "python",
   "name": "python2"
  },
  "language_info": {
   "codemirror_mode": {
    "name": "ipython",
    "version": 2
   },
   "file_extension": ".py",
   "mimetype": "text/x-python",
   "name": "python",
   "nbconvert_exporter": "python",
   "pygments_lexer": "ipython2",
   "version": "2.7.10"
  }
 },
 "nbformat": 4,
 "nbformat_minor": 0
}
